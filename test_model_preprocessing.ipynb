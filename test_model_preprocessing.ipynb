{
 "cells": [
  {
   "cell_type": "code",
   "execution_count": 43,
   "id": "9f093ded",
   "metadata": {},
   "outputs": [],
   "source": [
    "from sklearn.preprocessing import StandardScaler\n",
    "import pandas as pd"
   ]
  },
  {
   "cell_type": "code",
   "execution_count": 44,
   "id": "e16fe34c",
   "metadata": {},
   "outputs": [],
   "source": [
    "# Загрузка данных\n",
    "train_data = pd.read_csv('train_data.csv')\n",
    "test_data = pd.read_csv('test_data.csv')"
   ]
  },
  {
   "cell_type": "code",
   "execution_count": 45,
   "id": "205ba7c8",
   "metadata": {},
   "outputs": [],
   "source": [
    "# Предобработка данных\n",
    "scaler = StandardScaler()\n",
    "train_data['temperature'] = scaler.fit_transform(train_data[['temperature']])\n",
    "test_data['temperature'] = scaler.transform(test_data[['temperature']])"
   ]
  },
  {
   "cell_type": "code",
   "execution_count": 46,
   "id": "7a228a5d",
   "metadata": {},
   "outputs": [],
   "source": [
    "# Сохранение предобработанных данных\n",
    "train_data.to_csv('train_data_preprocessed.csv', index=False)\n",
    "test_data.to_csv('test_data_preprocessed.csv', index=False)"
   ]
  },
  {
   "cell_type": "code",
   "execution_count": 47,
   "id": "1d7ea8dc",
   "metadata": {},
   "outputs": [],
   "source": [
    "import ipytest\n",
    "ipytest.autoconfig()"
   ]
  },
  {
   "cell_type": "code",
   "execution_count": 48,
   "id": "2498600b",
   "metadata": {},
   "outputs": [
    {
     "name": "stdout",
     "output_type": "stream",
     "text": [
      "\u001b[32m.\u001b[0m\u001b[32m                                                                                            [100%]\u001b[0m\n",
      "\u001b[32m\u001b[32m\u001b[1m1 passed\u001b[0m\u001b[32m in 0.06s\u001b[0m\u001b[0m\n"
     ]
    }
   ],
   "source": [
    "%%ipytest\n",
    "def test_noise_stat_p_value():\n",
    "    mean = np.mean(train_data['temperature'])\n",
    "    std = np.std(train_data['temperature'])\n",
    "    # Check that the standard deviation is within an acceptable range\n",
    "    assert mean > -1 and mean < 1, \"Mean:\"\n",
    "    assert std > 0 and std <= 1, \"Standard deviation:\""
   ]
  },
  {
   "cell_type": "code",
   "execution_count": null,
   "id": "2153afb3",
   "metadata": {},
   "outputs": [],
   "source": []
  }
 ],
 "metadata": {
  "kernelspec": {
   "display_name": "Python 3 (ipykernel)",
   "language": "python",
   "name": "python3"
  },
  "language_info": {
   "codemirror_mode": {
    "name": "ipython",
    "version": 3
   },
   "file_extension": ".py",
   "mimetype": "text/x-python",
   "name": "python",
   "nbconvert_exporter": "python",
   "pygments_lexer": "ipython3",
   "version": "3.11.5"
  }
 },
 "nbformat": 4,
 "nbformat_minor": 5
}
