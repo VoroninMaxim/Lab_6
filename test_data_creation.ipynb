{
 "cells": [
  {
   "cell_type": "code",
   "execution_count": 94,
   "id": "e5dfef4e",
   "metadata": {},
   "outputs": [],
   "source": [
    "import numpy as np\n",
    "import pandas as pd\n",
    "import os\n",
    "\n",
    "# Функция для генерации\n",
    "def generete_data(anomaly_prob=0.05, noise_std=0.5):\n",
    "    np.random.seed(42)\n",
    "    days = np.arange(1, 366)\n",
    "    temperatures = np.sin(days / 365 * 2 * np.pi) * 20 + 15\n",
    "    anomalies = np.random.choice([0, 1], size=len(days), p=[1 - anomaly_prob, anomaly_prob])\n",
    "    temperatures[anomalies == 1] += np.random.normal(scale=noise_std, size=np.sum(anomalies))\n",
    "    return days, temperatures\n",
    "\n",
    "# Генерация данных для обучения\n",
    "train_days, train_temps = generete_data()\n",
    "test_days, test_temps = generete_data()\n",
    "\n",
    "# Сохранение данных в файлы\n",
    "pd.DataFrame({'day':train_days, 'temperature': train_temps}).to_csv('train_data.csv', index=False)\n",
    "pd.DataFrame({'day':test_days, 'temperature': test_temps}).to_csv('test_data.csv', index=False)"
   ]
  },
  {
   "cell_type": "code",
   "execution_count": 95,
   "id": "c4e20fa7",
   "metadata": {},
   "outputs": [],
   "source": [
    "import ipytest\n",
    "ipytest.autoconfig()"
   ]
  },
  {
   "cell_type": "code",
   "execution_count": 96,
   "id": "685c9173",
   "metadata": {},
   "outputs": [
    {
     "name": "stdout",
     "output_type": "stream",
     "text": [
      "\u001b[32m.\u001b[0m\u001b[32m                                                                                            [100%]\u001b[0m\n",
      "\u001b[32m\u001b[32m\u001b[1m1 passed\u001b[0m\u001b[32m in 0.02s\u001b[0m\u001b[0m\n"
     ]
    }
   ],
   "source": [
    "%%ipytest\n",
    "def test_noise_stat_p_value():\n",
    "    days, temperatures = generete_data(anomaly_prob=0.05, noise_std=0.5)\n",
    "    stat, p = stats.shapiro(temperatures)\n",
    "    # Check that the standard deviation is within an acceptable range\n",
    "    assert stat > 0.5, \"test statistic\"\n",
    "    assert p < 0.05, \"p-value: Not Normal\""
   ]
  }
 ],
 "metadata": {
  "kernelspec": {
   "display_name": "Python 3 (ipykernel)",
   "language": "python",
   "name": "python3"
  },
  "language_info": {
   "codemirror_mode": {
    "name": "ipython",
    "version": 3
   },
   "file_extension": ".py",
   "mimetype": "text/x-python",
   "name": "python",
   "nbconvert_exporter": "python",
   "pygments_lexer": "ipython3",
   "version": "3.11.5"
  }
 },
 "nbformat": 4,
 "nbformat_minor": 5
}
