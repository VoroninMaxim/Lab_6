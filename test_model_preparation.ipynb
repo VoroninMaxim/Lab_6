{
 "cells": [
  {
   "cell_type": "code",
   "execution_count": 152,
   "id": "71d4a04a",
   "metadata": {},
   "outputs": [],
   "source": [
    "import joblib\n",
    "import pandas as pd\n",
    "from sklearn.linear_model import LinearRegression\n",
    "from sklearn.model_selection import train_test_split\n",
    "from sklearn.metrics import mean_squared_error"
   ]
  },
  {
   "cell_type": "code",
   "execution_count": 153,
   "id": "0c70ce14",
   "metadata": {},
   "outputs": [],
   "source": [
    "# загрузка предобработанных данных\n",
    "data = pd.read_csv('train_data_preprocessed.csv')\n",
    "x = data[['day']]\n",
    "y = data['temperature']"
   ]
  },
  {
   "cell_type": "code",
   "execution_count": 154,
   "id": "146df503",
   "metadata": {},
   "outputs": [],
   "source": [
    "# Разделение данных на обучающую и валидационную выборки\n",
    "x_train, x_val, y_train, y_val = train_test_split(x, y, test_size=0.2, random_state=42)"
   ]
  },
  {
   "cell_type": "code",
   "execution_count": 155,
   "id": "3238c181",
   "metadata": {},
   "outputs": [],
   "source": [
    "# Создание и обучение модели\n",
    "model = LinearRegression()\n",
    "model.fit(x_train, y_train)\n",
    "score = model.score(x_val, y_val)"
   ]
  },
  {
   "cell_type": "code",
   "execution_count": 156,
   "id": "c81fa992",
   "metadata": {},
   "outputs": [
    {
     "data": {
      "text/plain": [
       "0.5483588500857353"
      ]
     },
     "execution_count": 156,
     "metadata": {},
     "output_type": "execute_result"
    }
   ],
   "source": [
    "score"
   ]
  },
  {
   "cell_type": "code",
   "execution_count": 157,
   "id": "6af2b691",
   "metadata": {},
   "outputs": [],
   "source": [
    "import ipytest\n",
    "ipytest.autoconfig()"
   ]
  },
  {
   "cell_type": "code",
   "execution_count": 158,
   "id": "798cc38d",
   "metadata": {},
   "outputs": [
    {
     "name": "stdout",
     "output_type": "stream",
     "text": [
      "\u001b[32m.\u001b[0m\u001b[32m                                                                                            [100%]\u001b[0m\n",
      "\u001b[32m\u001b[32m\u001b[1m1 passed\u001b[0m\u001b[32m in 0.05s\u001b[0m\u001b[0m\n"
     ]
    }
   ],
   "source": [
    "%%ipytest\n",
    "def test_mean_squared_error():\n",
    "    predictions = model.predict(x_train)\n",
    "    assert mean_squared_error(y_train, predictions) > 0.3  # replace 0.5 with the minimum score you expect"
   ]
  }
 ],
 "metadata": {
  "kernelspec": {
   "display_name": "Python 3 (ipykernel)",
   "language": "python",
   "name": "python3"
  },
  "language_info": {
   "codemirror_mode": {
    "name": "ipython",
    "version": 3
   },
   "file_extension": ".py",
   "mimetype": "text/x-python",
   "name": "python",
   "nbconvert_exporter": "python",
   "pygments_lexer": "ipython3",
   "version": "3.11.5"
  }
 },
 "nbformat": 4,
 "nbformat_minor": 5
}
